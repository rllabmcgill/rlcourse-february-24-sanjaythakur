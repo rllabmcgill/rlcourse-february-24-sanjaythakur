{
 "cells": [
  {
   "cell_type": "code",
   "execution_count": 1,
   "metadata": {
    "collapsed": false
   },
   "outputs": [
    {
     "name": "stdout",
     "output_type": "stream",
     "text": [
      "Populating the interactive namespace from numpy and matplotlib\n"
     ]
    },
    {
     "name": "stderr",
     "output_type": "stream",
     "text": [
      "/home/sanjay/anaconda3/lib/python3.6/site-packages/IPython/core/magics/pylab.py:161: UserWarning: pylab import has clobbered these variables: ['random']\n",
      "`%matplotlib` prevents importing * from pylab and numpy\n",
      "  \"\\n`%matplotlib` prevents importing * from pylab and numpy\"\n"
     ]
    }
   ],
   "source": [
    "import random\n",
    "import os\n",
    "import time\n",
    "%pylab inline"
   ]
  },
  {
   "cell_type": "markdown",
   "metadata": {},
   "source": [
    "All constants"
   ]
  },
  {
   "cell_type": "code",
   "execution_count": 2,
   "metadata": {
    "collapsed": true
   },
   "outputs": [],
   "source": [
    "#WAIT TIME\n",
    "wait_time = 0.05\n",
    "\n",
    "#Defining colors for highlighting important aspects\n",
    "GREEN = lambda x: '\\x1b[32m{}\\x1b[0m'.format(x)\n",
    "BLUE = lambda x: '\\x1b[34m{}\\x1b[0m'.format(x)\n",
    "RED = lambda x: '\\x1b[31m{}\\x1b[0m'.format(x)"
   ]
  },
  {
   "cell_type": "markdown",
   "metadata": {},
   "source": [
    "Defining the environment"
   ]
  },
  {
   "cell_type": "code",
   "execution_count": 3,
   "metadata": {
    "collapsed": true
   },
   "outputs": [],
   "source": [
    "#Forbidden states of the Dyna Maze\n",
    "FORBIDDEN_STATES = ['11', '20', '29', '41', '07', '16', '25']\n",
    "\n",
    "#All possible actions defined\n",
    "ACTION_UP = 'UP'\n",
    "ACTION_DOWN = 'DOWN'\n",
    "ACTION_LEFT = 'LEFT'\n",
    "ACTION_RIGHT = 'RIGHT'\n",
    "        \n",
    "#All actions\n",
    "all_actions = [ACTION_UP, ACTION_RIGHT, ACTION_DOWN, ACTION_LEFT]\n",
    "\n",
    "#All states in Dyna-Maze\n",
    "all_states = ['00', '01', '02', '03', '04', '05', '06', '07', '08',\n",
    "            '09', '10', '11', '12', '13', '14', '15', '16', '17', \n",
    "            '18', '19', '20', '21', '22', '23', '24', '25', '26',\n",
    "            '27', '28', '29', '30', '31', '32', '33', '34', '35',\n",
    "            '36', '37', '38', '39', '40', '41', '42', '43', '44',\n",
    "            '45', '46', '47', '48', '49', '50', '51', '52', '53']\n",
    "\n",
    "#All transitions in Dyna-Maze\n",
    "all_transitions =  {\n",
    "    '00': {ACTION_UP : '00', ACTION_RIGHT : '01', ACTION_DOWN: '09', ACTION_LEFT: '00'},\n",
    "    '01': {ACTION_UP : '01', ACTION_RIGHT : '02', ACTION_DOWN: '10', ACTION_LEFT: '00'},\n",
    "    '02': {ACTION_UP : '02', ACTION_RIGHT : '03', ACTION_DOWN: '02', ACTION_LEFT: '01'},\n",
    "    '03': {ACTION_UP : '03', ACTION_RIGHT : '04', ACTION_DOWN: '12', ACTION_LEFT: '02'},\n",
    "    '04': {ACTION_UP : '04', ACTION_RIGHT : '05', ACTION_DOWN: '13', ACTION_LEFT: '03'},\n",
    "    '05': {ACTION_UP : '05', ACTION_RIGHT : '06', ACTION_DOWN: '14', ACTION_LEFT: '04'},\n",
    "    '06': {ACTION_UP : '06', ACTION_RIGHT : '06', ACTION_DOWN: '15', ACTION_LEFT: '05'},\n",
    "    '07': {ACTION_UP : '07', ACTION_RIGHT : '07', ACTION_DOWN: '07', ACTION_LEFT: '07'},\n",
    "    '08': {ACTION_UP : '08', ACTION_RIGHT : '08', ACTION_DOWN: '17', ACTION_LEFT: '08'},\n",
    "    '09': {ACTION_UP : '00', ACTION_RIGHT : '10', ACTION_DOWN: '18', ACTION_LEFT: '09'},\n",
    "    '10': {ACTION_UP : '01', ACTION_RIGHT : '10', ACTION_DOWN: '19', ACTION_LEFT: '09'},\n",
    "    '11': {ACTION_UP : '11', ACTION_RIGHT : '11', ACTION_DOWN: '11', ACTION_LEFT: '11'},\n",
    "    '12': {ACTION_UP : '03', ACTION_RIGHT : '13', ACTION_DOWN: '21', ACTION_LEFT: '12'},\n",
    "    '13': {ACTION_UP : '04', ACTION_RIGHT : '14', ACTION_DOWN: '22', ACTION_LEFT: '12'},\n",
    "    '14': {ACTION_UP : '05', ACTION_RIGHT : '15', ACTION_DOWN: '23', ACTION_LEFT: '13'},\n",
    "    '15': {ACTION_UP : '06', ACTION_RIGHT : '15', ACTION_DOWN: '24', ACTION_LEFT: '14'},\n",
    "    '16': {ACTION_UP : '16', ACTION_RIGHT : '16', ACTION_DOWN: '16', ACTION_LEFT: '16'},\n",
    "    '17': {ACTION_UP : '08', ACTION_RIGHT : '17', ACTION_DOWN: '26', ACTION_LEFT: '17'},\n",
    "    '18': {ACTION_UP : '09', ACTION_RIGHT : '19', ACTION_DOWN: '27', ACTION_LEFT: '18'},\n",
    "    '19': {ACTION_UP : '10', ACTION_RIGHT : '19', ACTION_DOWN: '28', ACTION_LEFT: '18'},\n",
    "    '20': {ACTION_UP : '20', ACTION_RIGHT : '20', ACTION_DOWN: '20', ACTION_LEFT: '20'},\n",
    "    '21': {ACTION_UP : '12', ACTION_RIGHT : '22', ACTION_DOWN: '30', ACTION_LEFT: '21'},\n",
    "    '22': {ACTION_UP : '13', ACTION_RIGHT : '23', ACTION_DOWN: '31', ACTION_LEFT: '21'},\n",
    "    '23': {ACTION_UP : '14', ACTION_RIGHT : '24', ACTION_DOWN: '32', ACTION_LEFT: '22'},\n",
    "    '24': {ACTION_UP : '15', ACTION_RIGHT : '24', ACTION_DOWN: '33', ACTION_LEFT: '23'},\n",
    "    '25': {ACTION_UP : '25', ACTION_RIGHT : '25', ACTION_DOWN: '25', ACTION_LEFT: '25'},\n",
    "    '26': {ACTION_UP : '17', ACTION_RIGHT : '26', ACTION_DOWN: '35', ACTION_LEFT: '26'},\n",
    "    '27': {ACTION_UP : '18', ACTION_RIGHT : '28', ACTION_DOWN: '36', ACTION_LEFT: '27'},\n",
    "    '28': {ACTION_UP : '19', ACTION_RIGHT : '28', ACTION_DOWN: '37', ACTION_LEFT: '27'},\n",
    "    '29': {ACTION_UP : '29', ACTION_RIGHT : '29', ACTION_DOWN: '29', ACTION_LEFT: '29'},\n",
    "    '30': {ACTION_UP : '21', ACTION_RIGHT : '31', ACTION_DOWN: '39', ACTION_LEFT: '30'},\n",
    "    '31': {ACTION_UP : '22', ACTION_RIGHT : '32', ACTION_DOWN: '40', ACTION_LEFT: '30'},\n",
    "    '32': {ACTION_UP : '23', ACTION_RIGHT : '33', ACTION_DOWN: '32', ACTION_LEFT: '31'},\n",
    "    '33': {ACTION_UP : '24', ACTION_RIGHT : '34', ACTION_DOWN: '42', ACTION_LEFT: '32'},\n",
    "    '34': {ACTION_UP : '34', ACTION_RIGHT : '35', ACTION_DOWN: '43', ACTION_LEFT: '33'},\n",
    "    '35': {ACTION_UP : '26', ACTION_RIGHT : '35', ACTION_DOWN: '44', ACTION_LEFT: '34'},\n",
    "    '36': {ACTION_UP : '27', ACTION_RIGHT : '37', ACTION_DOWN: '45', ACTION_LEFT: '36'},\n",
    "    '37': {ACTION_UP : '28', ACTION_RIGHT : '38', ACTION_DOWN: '46', ACTION_LEFT: '36'},\n",
    "    '38': {ACTION_UP : '38', ACTION_RIGHT : '39', ACTION_DOWN: '47', ACTION_LEFT: '37'},\n",
    "    '39': {ACTION_UP : '30', ACTION_RIGHT : '40', ACTION_DOWN: '48', ACTION_LEFT: '38'},\n",
    "    '40': {ACTION_UP : '31', ACTION_RIGHT : '40', ACTION_DOWN: '49', ACTION_LEFT: '39'},\n",
    "    '41': {ACTION_UP : '41', ACTION_RIGHT : '41', ACTION_DOWN: '41', ACTION_LEFT: '41'},\n",
    "    '42': {ACTION_UP : '33', ACTION_RIGHT : '43', ACTION_DOWN: '51', ACTION_LEFT: '42'},\n",
    "    '43': {ACTION_UP : '34', ACTION_RIGHT : '44', ACTION_DOWN: '52', ACTION_LEFT: '42'},\n",
    "    '44': {ACTION_UP : '35', ACTION_RIGHT : '44', ACTION_DOWN: '53', ACTION_LEFT: '43'},\n",
    "    '45': {ACTION_UP : '36', ACTION_RIGHT : '46', ACTION_DOWN: '45', ACTION_LEFT: '45'},\n",
    "    '46': {ACTION_UP : '37', ACTION_RIGHT : '47', ACTION_DOWN: '46', ACTION_LEFT: '45'},\n",
    "    '47': {ACTION_UP : '38', ACTION_RIGHT : '48', ACTION_DOWN: '47', ACTION_LEFT: '46'},\n",
    "    '48': {ACTION_UP : '39', ACTION_RIGHT : '49', ACTION_DOWN: '48', ACTION_LEFT: '47'},\n",
    "    '49': {ACTION_UP : '40', ACTION_RIGHT : '50', ACTION_DOWN: '49', ACTION_LEFT: '48'},\n",
    "    '50': {ACTION_UP : '50', ACTION_RIGHT : '51', ACTION_DOWN: '50', ACTION_LEFT: '49'},\n",
    "    '51': {ACTION_UP : '42', ACTION_RIGHT : '52', ACTION_DOWN: '51', ACTION_LEFT: '50'},\n",
    "    '52': {ACTION_UP : '43', ACTION_RIGHT : '53', ACTION_DOWN: '52', ACTION_LEFT: '51'},\n",
    "    '53': {ACTION_UP : '44', ACTION_RIGHT : '53', ACTION_DOWN: '53', ACTION_LEFT: '52'},\n",
    "}"
   ]
  },
  {
   "cell_type": "markdown",
   "metadata": {},
   "source": [
    "All functions to set the parameters and datastructures of the environment are defined here."
   ]
  },
  {
   "cell_type": "code",
   "execution_count": 4,
   "metadata": {
    "collapsed": false
   },
   "outputs": [],
   "source": [
    "def defineStateActionImmediateRewards(END_STATE):\n",
    "    immediate_state_rewards = {}\n",
    "    for state in all_states:\n",
    "        action_rewards = {}\n",
    "        if state == END_STATE:\n",
    "            for action in all_actions:\n",
    "                action_rewards[action] = 1\n",
    "        else:\n",
    "            for action in all_actions:\n",
    "                \n",
    "                if all_transitions[state][action] == END_STATE:\n",
    "                    action_rewards[action] = 1\n",
    "                else:\n",
    "                    action_rewards[action] = 0\n",
    "        \n",
    "        immediate_state_rewards[state] = action_rewards\n",
    "    return immediate_state_rewards"
   ]
  },
  {
   "cell_type": "code",
   "execution_count": 5,
   "metadata": {
    "collapsed": false
   },
   "outputs": [],
   "source": [
    "def initializeStateActionValuePairs():        \n",
    "    state_action_value_pairs = {}\n",
    "    for state in all_states:\n",
    "        action_rewards = {}\n",
    "        for action in all_actions:\n",
    "            action_rewards[action] = 1\n",
    "        state_action_value_pairs[state] = action_rewards\n",
    "        \n",
    "    return state_action_value_pairs"
   ]
  },
  {
   "cell_type": "code",
   "execution_count": 6,
   "metadata": {
    "collapsed": false
   },
   "outputs": [],
   "source": [
    "# We initialize our policy. We initialize our state action values with all optimistic values so that we don't get stuck at any deadlocks.\n",
    "def initializeGreedyPolicy():\n",
    "    greedy_policy = {}\n",
    "    for state in all_states:\n",
    "        greedy_policy[state] = ACTION_RIGHT\n",
    "    return greedy_policy"
   ]
  },
  {
   "cell_type": "code",
   "execution_count": 7,
   "metadata": {
    "collapsed": false,
    "scrolled": true
   },
   "outputs": [],
   "source": [
    "def initializeModelStateActionBag():\n",
    "    state_action_bag = {}\n",
    "    for state in all_states:\n",
    "        action_map = {}\n",
    "        for action in all_actions:\n",
    "            action_map[action] = ()\n",
    "        state_action_bag[state] = action_map\n",
    "    return state_action_bag"
   ]
  },
  {
   "cell_type": "markdown",
   "metadata": {},
   "source": [
    "All other helper functions needed are defined here"
   ]
  },
  {
   "cell_type": "code",
   "execution_count": 8,
   "metadata": {
    "collapsed": true
   },
   "outputs": [],
   "source": [
    "def updatePolicy(state_action_value_pairs, greedy_policy):\n",
    "    for state, action_values in state_action_value_pairs.items():\n",
    "        highest_valued_action = ACTION_UP\n",
    "        highest_value = action_values[ACTION_UP]\n",
    "        if highest_value < action_values[ACTION_RIGHT]:\n",
    "            highest_valued_action = ACTION_RIGHT\n",
    "            highest_value = action_values[ACTION_RIGHT]\n",
    "        if highest_value < action_values[ACTION_DOWN]:\n",
    "            highest_valued_action = ACTION_DOWN\n",
    "            highest_value = action_values[ACTION_DOWN]\n",
    "        if highest_value < action_values[ACTION_LEFT]:\n",
    "            highest_valued_action = ACTION_LEFT\n",
    "            highest_value = action_values[ACTION_LEFT]\n",
    "            \n",
    "        greedy_policy[state] = highest_valued_action\n",
    "    return greedy_policy\n",
    "\n",
    "def chooseActionStochastically():\n",
    "    random_throw = random.uniform(0, 1)\n",
    "    if random_throw < 0.25:\n",
    "        return ACTION_UP\n",
    "    elif random_throw < 0.5:\n",
    "        return ACTION_RIGHT\n",
    "    elif random_throw < 0.75:\n",
    "        return ACTION_DOWN\n",
    "    else:\n",
    "        return ACTION_LEFT\n",
    "    \n",
    "def takeAction(immediate_state_rewards, state, action):\n",
    "    reward = immediate_state_rewards[state][action]\n",
    "    next_state = all_transitions[state][action]\n",
    "    return next_state, reward\n",
    "\n",
    "def printPolicy(greedy_policy):\n",
    "    print(\"Latest Policy\", end = '')\n",
    "    for state in all_states:\n",
    "        if (int(state) % 9) == 0:\n",
    "            print(\"\\n\")\n",
    "        print(state, \"::\", greedy_policy[state],\"\\t\", end = '')\n",
    "    print(\"\\n\\n\")\n",
    "    \n",
    "def printStateActionValuePairs(state_action_value_pairs):\n",
    "    print(\" \\t\", ACTION_UP, \"\\t\", ACTION_RIGHT, \"\\t\", ACTION_DOWN, \"\\t\", ACTION_LEFT)\n",
    "    for state in all_states:\n",
    "        print(state, \"\\t\", \"%.2f\" % state_action_value_pairs[state][ACTION_UP], \"\\t\", \"%.2f\" % state_action_value_pairs[state][ACTION_RIGHT], \"\\t\", \"%.2f\" % state_action_value_pairs[state][ACTION_DOWN], \"\\t\", \"%.2f\" % state_action_value_pairs[state][ACTION_LEFT],)\n",
    "    print(\"\\n\\n\")\n",
    "    \n",
    "def printDynaMaze(states_in_episode = []):\n",
    "    for state in all_states:\n",
    "        if (int(state) % 9) == 0:\n",
    "            print(\"\\n\")\n",
    "        \n",
    "        if state in states_in_episode:\n",
    "            state = state.replace(state, GREEN(state))\n",
    "            \n",
    "        if state in FORBIDDEN_STATES:\n",
    "            state = state.replace(state, RED(state))\n",
    "        \n",
    "        print(state, \"\\t\", end = '')\n",
    "        \n",
    "    print(\"\\n\")\n"
   ]
  },
  {
   "cell_type": "code",
   "execution_count": 9,
   "metadata": {
    "collapsed": true
   },
   "outputs": [],
   "source": [
    "class DynaAgent():\n",
    "    def __init__(self, GAMMA = 0.95, ALPHA = 0.1, EPSILON = 1, TOTAL_EPISODES_TO_CONSIDER = 50, MAXIMUM_EPISODE_LENGTH = 800, NUMBER_PLANNING_STEPS = 50, START_STATE = '18', END_STATE = '08', PLAN = True):\n",
    "        #Discount-factor\n",
    "        self.GAMMA = GAMMA\n",
    "        #ALPHA or step-size\n",
    "        self.ALPHA = ALPHA\n",
    "        #Defining the EPSILON which would ensure regular exploration. Our EPSILON will decrease linearly with each iteration of a episode and will eventually fade away to 0 .\n",
    "        self.EPSILON = EPSILON\n",
    "        #Number of episodes to consider\n",
    "        self.TOTAL_EPISODES_TO_CONSIDER = TOTAL_EPISODES_TO_CONSIDER\n",
    "        #Maximum allowed episode length\n",
    "        self.MAXIMUM_EPISODE_LENGTH = MAXIMUM_EPISODE_LENGTH\n",
    "        #Number of planning steps\n",
    "        self.NUMBER_PLANNING_STEPS = NUMBER_PLANNING_STEPS\n",
    "        #Start State\n",
    "        self.START_STATE = START_STATE\n",
    "        #End State\n",
    "        self.END_STATE = END_STATE\n",
    "        #Should incorporate planning in decision-making or not\n",
    "        self.PLAN = PLAN   \n",
    "        \n",
    "    #Parameters to mimic the environment. Remember that these parameters won't be known to us, not at least before we start moving our agent.\n",
    "    def setAllDataStructures(self):\n",
    "        self.immediate_state_rewards = defineStateActionImmediateRewards(self.END_STATE)\n",
    "        self.state_action_value_pairs = initializeStateActionValuePairs()\n",
    "        self.greedy_policy = initializeGreedyPolicy()\n",
    "        self.state_action_bag = initializeModelStateActionBag()\n",
    "     \n",
    "    # This function runs the agent which plans and learns simultaneously how to reach the goal state.\n",
    "    def runAgent(self):\n",
    "        all_observed_state_action_pairs = set()\n",
    "        all_episodes_length = []\n",
    "        all_episodes = []\n",
    "        for episode_iterator in range(self.TOTAL_EPISODES_TO_CONSIDER):\n",
    "            current_episode = [self.START_STATE]\n",
    "            self.EPSILON = (1/((0.2 * episode_iterator) + 1))\n",
    "            current_state = self.START_STATE\n",
    "            current_episode_length = 0\n",
    "            while(current_state != self.END_STATE and current_episode_length < self.MAXIMUM_EPISODE_LENGTH):\n",
    "                current_episode_length += 1\n",
    "                random_throw = random.uniform(0, 1)\n",
    "                if random_throw < self.EPSILON:\n",
    "                    current_action = chooseActionStochastically()\n",
    "                else:\n",
    "                    current_action = self.greedy_policy[current_state]\n",
    "                next_state, reward = takeAction(self.immediate_state_rewards, current_state, current_action)\n",
    "                self.state_action_value_pairs[current_state][current_action] = self.state_action_value_pairs[current_state][current_action] + (self.ALPHA * (reward + (self.GAMMA * self.state_action_value_pairs[next_state][self.greedy_policy[next_state]]) - self.state_action_value_pairs[current_state][current_action]))\n",
    "                all_observed_state_action_pairs.add((current_state, current_action))\n",
    "                self.state_action_bag[current_state][current_action] = (reward, next_state)\n",
    "                if self.PLAN == True:\n",
    "                    for planning_iterator in range(self.NUMBER_PLANNING_STEPS):\n",
    "                        random_picker = int(random.uniform(0, len(all_observed_state_action_pairs)))\n",
    "                        state_action_pair = list(all_observed_state_action_pairs)[random_picker]\n",
    "                        _state = state_action_pair[0]\n",
    "                        _action = state_action_pair[1]\n",
    "                        _reward, _next_state = self.state_action_bag[_state][_action]\n",
    "                        self.state_action_value_pairs[_state][_action] = self.state_action_value_pairs[_state][_action] + (self.ALPHA * (_reward + (self.GAMMA * self.state_action_value_pairs[_next_state][self.greedy_policy[_next_state]]) - self.state_action_value_pairs[_state][_action]))\n",
    "                current_state = next_state\n",
    "                current_episode.append(current_state)\n",
    "                self.greedy_policy = updatePolicy(self.state_action_value_pairs, self.greedy_policy)\n",
    "            all_episodes.append(current_episode)\n",
    "            all_episodes_length.append((current_episode_length + 1)) \n",
    "        return all_episodes, all_episodes_length"
   ]
  },
  {
   "cell_type": "code",
   "execution_count": 10,
   "metadata": {
    "collapsed": false
   },
   "outputs": [],
   "source": [
    "#Dyna Agent with planning and 50 episodes which are the default settings\n",
    "agent_with_default_settings = DynaAgent()\n",
    "agent_with_default_settings.setAllDataStructures()\n",
    "all_episodes_from_default_settings, all_episodes_length_from_default_settings = agent_with_default_settings.runAgent()"
   ]
  },
  {
   "cell_type": "code",
   "execution_count": 11,
   "metadata": {
    "collapsed": true
   },
   "outputs": [],
   "source": [
    "#Dyna Agent with planning and 5 planning steps, rest other parameters are left to default settings\n",
    "agent_with_five_episodes = DynaAgent(NUMBER_PLANNING_STEPS= 5)\n",
    "agent_with_five_episodes.setAllDataStructures()\n",
    "all_episodes_from_five_episodes, all_episodes_length_five_episodes = agent_with_five_episodes.runAgent()"
   ]
  },
  {
   "cell_type": "code",
   "execution_count": 12,
   "metadata": {
    "collapsed": true
   },
   "outputs": [],
   "source": [
    "#An agent with no planning\n",
    "agent_without_planning = DynaAgent(PLAN=False)\n",
    "agent_without_planning.setAllDataStructures()\n",
    "all_episodes_without_planning, all_episodes_length_without_planning = agent_without_planning.runAgent()"
   ]
  },
  {
   "cell_type": "code",
   "execution_count": 14,
   "metadata": {
    "collapsed": false
   },
   "outputs": [
    {
     "data": {
      "text/plain": [
       "<matplotlib.legend.Legend at 0x7fabb997c320>"
      ]
     },
     "execution_count": 14,
     "metadata": {},
     "output_type": "execute_result"
    },
    {
     "data": {
      "image/png": "[encoded data removed]",
      "text/plain": [
       "<matplotlib.figure.Figure at 0x7fabb9a99e10>"
      ]
     },
     "metadata": {},
     "output_type": "display_data"
    }
   ],
   "source": [
    "episode_number = [x for x in range(len(all_episodes_length_from_default_settings))]\n",
    "plot(episode_number, all_episodes_length_from_default_settings, linewidth=2)\n",
    "plot(episode_number, all_episodes_length_five_episodes, linewidth=2)\n",
    "plot(episode_number, all_episodes_length_without_planning, linewidth=2)\n",
    "grid(1)\n",
    "ylabel('Steps per episode')\n",
    "xlabel('Episodes -> ')\n",
    "legend(['50 Planning steps', '5 Planning steps', 'Without planning'])"
   ]
  },
  {
   "cell_type": "code",
   "execution_count": 12,
   "metadata": {
    "collapsed": false
   },
   "outputs": [
    {
     "data": {
      "text/plain": [
       "'\\nos.system(\\'clear\\')\\nfor episode_number in range(len(all_episodes)):\\n    episode = all_episodes[episode_number]\\n    for step_number in range(len(episode)):\\n        print(\"Episode number\", str(episode_number))\\n        printDynaMaze(episode[0:step_number])\\n        time.sleep(wait_time)\\n        os.system(\\'clear\\')\\n    time.sleep(4 * wait_time)\\n    \\n'"
      ]
     },
     "execution_count": 12,
     "metadata": {},
     "output_type": "execute_result"
    }
   ],
   "source": [
    "## Uncomment these lines to see demonstration, along with generating the python copy of this from 'File->Download As' and running it on the terminal \n",
    "\n",
    "'''\n",
    "os.system('clear')\n",
    "for episode_number in range(len(all_episodes_from_default_settings)):\n",
    "    episode = all_episodes_from_default_settings[episode_number]\n",
    "    for step_number in range(len(episode)):\n",
    "        print(\"Episode number\", str(episode_number))\n",
    "        printDynaMaze(episode[0:step_number])\n",
    "        time.sleep(wait_time)\n",
    "        os.system('clear')\n",
    "    time.sleep(4 * wait_time)\n",
    "    \n",
    "'''"
   ]
  },
  {
   "cell_type": "code",
   "execution_count": null,
   "metadata": {
    "collapsed": true
   },
   "outputs": [],
   "source": [
    "## Uncomment these lines to see demonstration, along with generating the python copy of this from 'File->Download As' and running it on the terminal \n",
    "\n",
    "'''\n",
    "os.system('clear')\n",
    "for episode_number in range(len(all_episodes_without_planning)):\n",
    "    episode = all_episodes_without_planning[episode_number]\n",
    "    for step_number in range(len(episode)):\n",
    "        print(\"Episode number\", str(episode_number))\n",
    "        printDynaMaze(episode[0:step_number])\n",
    "        time.sleep(wait_time)\n",
    "        os.system('clear')\n",
    "    time.sleep(4 * wait_time)\n",
    "    \n",
    "'''"
   ]
  }
 ],
 "metadata": {
  "kernelspec": {
   "display_name": "Python 3",
   "language": "python",
   "name": "python3"
  },
  "language_info": {
   "codemirror_mode": {
    "name": "ipython",
    "version": 3
   },
   "file_extension": ".py",
   "mimetype": "text/x-python",
   "name": "python",
   "nbconvert_exporter": "python",
   "pygments_lexer": "ipython3",
   "version": "3.6.0"
  }
 },
 "nbformat": 4,
 "nbformat_minor": 2
}
